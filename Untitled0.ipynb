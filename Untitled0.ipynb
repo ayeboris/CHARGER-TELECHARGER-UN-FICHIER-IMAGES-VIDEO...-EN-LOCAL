{
  "nbformat": 4,
  "nbformat_minor": 0,
  "metadata": {
    "colab": {
      "provenance": [],
      "authorship_tag": "ABX9TyOOlJlLrSwFZKJuPHqMNtr6",
      "include_colab_link": true
    },
    "kernelspec": {
      "name": "python3",
      "display_name": "Python 3"
    },
    "language_info": {
      "name": "python"
    }
  },
  "cells": [
    {
      "cell_type": "markdown",
      "metadata": {
        "id": "view-in-github",
        "colab_type": "text"
      },
      "source": [
        "<a href=\"https://colab.research.google.com/github/ayeboris/CHARGER-TELECHARGER-UN-FICHIER-IMAGES-VIDEO...-EN-LOCAL/blob/main/Untitled0.ipynb\" target=\"_parent\"><img src=\"https://colab.research.google.com/assets/colab-badge.svg\" alt=\"Open In Colab\"/></a>"
      ]
    },
    {
      "cell_type": "code",
      "execution_count": 1,
      "metadata": {
        "colab": {
          "base_uri": "https://localhost:8080/"
        },
        "id": "M2QL0qPmDZ2_",
        "outputId": "bbc17f6f-4755-45ee-c099-5ac297492b70"
      },
      "outputs": [
        {
          "output_type": "stream",
          "name": "stdout",
          "text": [
            "Requirement already satisfied: numpy in /usr/local/lib/python3.10/dist-packages (1.23.5)\n"
          ]
        }
      ],
      "source": [
        "pip install numpy"
      ]
    },
    {
      "cell_type": "code",
      "source": [
        "from math import pi"
      ],
      "metadata": {
        "id": "hNX0PHX6DqFh"
      },
      "execution_count": 3,
      "outputs": []
    },
    {
      "cell_type": "code",
      "source": [
        "import nltk\n",
        "from nltk.chat.util import Chat, reflections\n",
        "\n",
        "# Paires de motifs et de réponses pour le chatbot\n",
        "pairs = [\n",
        "    [\n",
        "        r\"salut|bonjour|hey\",\n",
        "        [\"Salut!\", \"Bonjour!\", \"Hey!\",]\n",
        "    ],\n",
        "    [\n",
        "        r\"comment ça va ?\",\n",
        "        [\"Je vais bien, merci!\", \"Tout va bien de mon côté!\",]\n",
        "    ],\n",
        "    [\n",
        "        r\"quel est ton nom ?\",\n",
        "        [\"Je suis un chatbot.\",]\n",
        "    ],\n",
        "    [\n",
        "        r\"quit\",\n",
        "        [\"Au revoir!\", \"À bientôt!\"]\n",
        "    ],\n",
        "]\n",
        "\n",
        "# Création de l'objet Chat avec les paires de motifs et de réponses\n",
        "chatbot = Chat(pairs, reflections)\n",
        "\n",
        "# Boucle de conversation\n",
        "print(\"Salut, je suis un chatbot. Tu peux discuter avec moi ou taper 'quit' pour sortir.\")\n",
        "while True:\n",
        "    user_input = input(\"Toi: \")\n",
        "    if user_input.lower() == 'quit':\n",
        "        print(\"Chatbot: Au revoir!\")\n",
        "        break\n",
        "    response = chatbot.respond(user_input)\n",
        "    print(\"Chatbot:\", response)\n"
      ],
      "metadata": {
        "colab": {
          "base_uri": "https://localhost:8080/"
        },
        "id": "BQIKNil6D7ql",
        "outputId": "cd4aeaac-13dc-482f-dfa0-49adb706976d"
      },
      "execution_count": 4,
      "outputs": [
        {
          "output_type": "stream",
          "name": "stdout",
          "text": [
            "Salut, je suis un chatbot. Tu peux discuter avec moi ou taper 'quit' pour sortir.\n",
            "Toi: quel est ton nom ?\n",
            "Chatbot: Je suis un chatbot.\n",
            "Toi: quit\n",
            "Chatbot: Au revoir!\n"
          ]
        }
      ]
    },
    {
      "cell_type": "code",
      "source": [],
      "metadata": {
        "id": "MkFxNEuHE8hw"
      },
      "execution_count": null,
      "outputs": []
    }
  ]
}